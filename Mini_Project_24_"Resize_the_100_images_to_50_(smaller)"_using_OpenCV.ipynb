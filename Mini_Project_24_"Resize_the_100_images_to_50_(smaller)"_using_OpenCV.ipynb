{
  "nbformat": 4,
  "nbformat_minor": 0,
  "metadata": {
    "colab": {
      "provenance": [],
      "authorship_tag": "ABX9TyNfrYh1tyxauWqSaupL8XGa",
      "include_colab_link": true
    },
    "kernelspec": {
      "name": "python3",
      "display_name": "Python 3"
    },
    "language_info": {
      "name": "python"
    }
  },
  "cells": [
    {
      "cell_type": "markdown",
      "metadata": {
        "id": "view-in-github",
        "colab_type": "text"
      },
      "source": [
        "<a href=\"https://colab.research.google.com/github/JaspreetMaan14/Resize-images-using-openCV/blob/main/Mini_Project_24_%22Resize_the_100_images_to_50_(smaller)%22_using_OpenCV.ipynb\" target=\"_parent\"><img src=\"https://colab.research.google.com/assets/colab-badge.svg\" alt=\"Open In Colab\"/></a>"
      ]
    },
    {
      "cell_type": "code",
      "execution_count": null,
      "metadata": {
        "id": "bjmWh66DSUGe"
      },
      "outputs": [],
      "source": [
        "#Install required Packages\n",
        "pip install opencv-python bing-image-downloader\n"
      ]
    },
    {
      "cell_type": "code",
      "source": [
        "import cv2\n",
        "import os\n",
        "from bing_image_downloader import downloader"
      ],
      "metadata": {
        "id": "wJqWfnlUScg5"
      },
      "execution_count": null,
      "outputs": []
    },
    {
      "cell_type": "code",
      "source": [
        "# Step 1: Download images from Bing\n",
        "search_term = \"scenery\"  # You can change this to anything like \"cars\", \"dogs\", etc.\n",
        "downloader.download(search_term, limit=100, output_dir='input_images', adult_filter_off=True, force_replace=False, timeout=60)"
      ],
      "metadata": {
        "id": "zfareYQ7SrYF"
      },
      "execution_count": null,
      "outputs": []
    },
    {
      "cell_type": "code",
      "source": [
        "# Step 2: Set paths\n",
        "input_dir = f'input_images/{search_term}'\n",
        "output_dir = 'output_images'"
      ],
      "metadata": {
        "id": "Z5CtEFOQS3rv"
      },
      "execution_count": null,
      "outputs": []
    },
    {
      "cell_type": "code",
      "source": [
        "# Create output directory if not exists\n",
        "os.makedirs(output_dir, exist_ok=True)"
      ],
      "metadata": {
        "id": "kpK8r3LNTMtb"
      },
      "execution_count": null,
      "outputs": []
    },
    {
      "cell_type": "code",
      "source": [
        "# Step 3: Convert images to grayscale and save\n",
        "image_files = [f for f in os.listdir(input_dir) if f.lower().endswith(('.jpg', '.jpeg', '.png'))]\n",
        "\n",
        "# Process each image\n",
        "for i, img_name in enumerate(image_files):\n",
        "    input_path = os.path.join(input_dir, img_name)\n",
        "    image = cv2.imread(input_path)\n",
        "\n",
        "    if image is None:\n",
        "        print(f\"Skipping unreadable image: {img_name}\")\n",
        "        continue\n",
        "\n",
        "    # Resize image to 50%\n",
        "    height, width = image.shape[:2]\n",
        "    resized = cv2.resize(image, (width // 2, height // 2), interpolation=cv2.INTER_AREA)\n",
        "\n",
        "    # Save resized image\n",
        "    output_path = os.path.join(output_dir, f'resized_{i+1}.jpg')\n",
        "    cv2.imwrite(output_path, resized)\n",
        "\n",
        "print(\" Resized 100 images to 50% and saved to 'resized_images/' folder.\")\n"
      ],
      "metadata": {
        "id": "58j7xGx7WhSW"
      },
      "execution_count": null,
      "outputs": []
    }
  ]
}